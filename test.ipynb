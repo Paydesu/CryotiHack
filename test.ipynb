{
 "cells": [
  {
   "cell_type": "markdown",
   "metadata": {},
   "source": []
  },
  {
   "cell_type": "code",
   "execution_count": 2,
   "metadata": {},
   "outputs": [
    {
     "name": "stdout",
     "output_type": "stream",
     "text": [
      "65 90 97 122\n"
     ]
    }
   ],
   "source": [
    "print(ord('A'),ord('Z'),ord('a'),ord('z'))"
   ]
  },
  {
   "cell_type": "code",
   "execution_count": null,
   "metadata": {},
   "outputs": [],
   "source": []
  },
  {
   "cell_type": "code",
   "execution_count": 1,
   "metadata": {},
   "outputs": [
    {
     "name": "stdout",
     "output_type": "stream",
     "text": [
      "crypto{inmatrix}\n"
     ]
    }
   ],
   "source": [
    "def bytes2matrix(text):\n",
    "    \"\"\" Converts a 16-byte array into a 4x4 matrix.  \"\"\"\n",
    "    return [list(text[i:i+4]) for i in range(0, len(text), 4)]\n",
    "\n",
    "\n",
    "def matrix2bytes(matrix):\n",
    "    \"\"\" Converts a 4x4 matrix into a 16-byte array.  \"\"\"\n",
    "    return \"\".join([chr(matrix[i][j]) for i in range(len(matrix)) for j in range(len(matrix[i]))])\n",
    "\n",
    "\n",
    "matrix = [\n",
    "    [99, 114, 121, 112],\n",
    "    [116, 111, 123, 105],\n",
    "    [110, 109, 97, 116],\n",
    "    [114, 105, 120, 125],\n",
    "]\n",
    "print(matrix2bytes(matrix))\n"
   ]
  },
  {
   "cell_type": "code",
   "execution_count": 26,
   "metadata": {},
   "outputs": [
    {
     "name": "stdout",
     "output_type": "stream",
     "text": [
      "crypto{r0undk3y}\n"
     ]
    }
   ],
   "source": [
    "state = [\n",
    "    [206, 243, 61, 34],\n",
    "    [171, 11, 93, 31],\n",
    "    [16, 200, 91, 108],\n",
    "    [150, 3, 194, 51],\n",
    "]\n",
    "\n",
    "round_key = [\n",
    "    [173, 129, 68, 82],\n",
    "    [223, 100, 38, 109],\n",
    "    [32, 189, 53, 8],\n",
    "    [253, 48, 187, 78],\n",
    "]\n",
    "\n",
    "\n",
    "def add_round_key(s, k):\n",
    "    new_matrix = [[], [], [], []]\n",
    "    [new_matrix[i].append(s[i][j] ^ k[i][j]) for i in range(\n",
    "        len(matrix)) for j in range(len(matrix[i]))]\n",
    "    return new_matrix\n",
    "\n",
    "\n",
    "print(matrix2bytes(add_round_key(state, round_key)))\n"
   ]
  },
  {
   "cell_type": "code",
   "execution_count": 44,
   "metadata": {},
   "outputs": [
    {
     "name": "stdout",
     "output_type": "stream",
     "text": [
      "crypto{l1n34rly}\n"
     ]
    }
   ],
   "source": [
    "s_box = (\n",
    "    0x63, 0x7C, 0x77, 0x7B, 0xF2, 0x6B, 0x6F, 0xC5, 0x30, 0x01, 0x67, 0x2B, 0xFE, 0xD7, 0xAB, 0x76,\n",
    "    0xCA, 0x82, 0xC9, 0x7D, 0xFA, 0x59, 0x47, 0xF0, 0xAD, 0xD4, 0xA2, 0xAF, 0x9C, 0xA4, 0x72, 0xC0,\n",
    "    0xB7, 0xFD, 0x93, 0x26, 0x36, 0x3F, 0xF7, 0xCC, 0x34, 0xA5, 0xE5, 0xF1, 0x71, 0xD8, 0x31, 0x15,\n",
    "    0x04, 0xC7, 0x23, 0xC3, 0x18, 0x96, 0x05, 0x9A, 0x07, 0x12, 0x80, 0xE2, 0xEB, 0x27, 0xB2, 0x75,\n",
    "    0x09, 0x83, 0x2C, 0x1A, 0x1B, 0x6E, 0x5A, 0xA0, 0x52, 0x3B, 0xD6, 0xB3, 0x29, 0xE3, 0x2F, 0x84,\n",
    "    0x53, 0xD1, 0x00, 0xED, 0x20, 0xFC, 0xB1, 0x5B, 0x6A, 0xCB, 0xBE, 0x39, 0x4A, 0x4C, 0x58, 0xCF,\n",
    "    0xD0, 0xEF, 0xAA, 0xFB, 0x43, 0x4D, 0x33, 0x85, 0x45, 0xF9, 0x02, 0x7F, 0x50, 0x3C, 0x9F, 0xA8,\n",
    "    0x51, 0xA3, 0x40, 0x8F, 0x92, 0x9D, 0x38, 0xF5, 0xBC, 0xB6, 0xDA, 0x21, 0x10, 0xFF, 0xF3, 0xD2,\n",
    "    0xCD, 0x0C, 0x13, 0xEC, 0x5F, 0x97, 0x44, 0x17, 0xC4, 0xA7, 0x7E, 0x3D, 0x64, 0x5D, 0x19, 0x73,\n",
    "    0x60, 0x81, 0x4F, 0xDC, 0x22, 0x2A, 0x90, 0x88, 0x46, 0xEE, 0xB8, 0x14, 0xDE, 0x5E, 0x0B, 0xDB,\n",
    "    0xE0, 0x32, 0x3A, 0x0A, 0x49, 0x06, 0x24, 0x5C, 0xC2, 0xD3, 0xAC, 0x62, 0x91, 0x95, 0xE4, 0x79,\n",
    "    0xE7, 0xC8, 0x37, 0x6D, 0x8D, 0xD5, 0x4E, 0xA9, 0x6C, 0x56, 0xF4, 0xEA, 0x65, 0x7A, 0xAE, 0x08,\n",
    "    0xBA, 0x78, 0x25, 0x2E, 0x1C, 0xA6, 0xB4, 0xC6, 0xE8, 0xDD, 0x74, 0x1F, 0x4B, 0xBD, 0x8B, 0x8A,\n",
    "    0x70, 0x3E, 0xB5, 0x66, 0x48, 0x03, 0xF6, 0x0E, 0x61, 0x35, 0x57, 0xB9, 0x86, 0xC1, 0x1D, 0x9E,\n",
    "    0xE1, 0xF8, 0x98, 0x11, 0x69, 0xD9, 0x8E, 0x94, 0x9B, 0x1E, 0x87, 0xE9, 0xCE, 0x55, 0x28, 0xDF,\n",
    "    0x8C, 0xA1, 0x89, 0x0D, 0xBF, 0xE6, 0x42, 0x68, 0x41, 0x99, 0x2D, 0x0F, 0xB0, 0x54, 0xBB, 0x16,\n",
    ")\n",
    "\n",
    "inv_s_box = (\n",
    "    0x52, 0x09, 0x6A, 0xD5, 0x30, 0x36, 0xA5, 0x38, 0xBF, 0x40, 0xA3, 0x9E, 0x81, 0xF3, 0xD7, 0xFB,\n",
    "    0x7C, 0xE3, 0x39, 0x82, 0x9B, 0x2F, 0xFF, 0x87, 0x34, 0x8E, 0x43, 0x44, 0xC4, 0xDE, 0xE9, 0xCB,\n",
    "    0x54, 0x7B, 0x94, 0x32, 0xA6, 0xC2, 0x23, 0x3D, 0xEE, 0x4C, 0x95, 0x0B, 0x42, 0xFA, 0xC3, 0x4E,\n",
    "    0x08, 0x2E, 0xA1, 0x66, 0x28, 0xD9, 0x24, 0xB2, 0x76, 0x5B, 0xA2, 0x49, 0x6D, 0x8B, 0xD1, 0x25,\n",
    "    0x72, 0xF8, 0xF6, 0x64, 0x86, 0x68, 0x98, 0x16, 0xD4, 0xA4, 0x5C, 0xCC, 0x5D, 0x65, 0xB6, 0x92,\n",
    "    0x6C, 0x70, 0x48, 0x50, 0xFD, 0xED, 0xB9, 0xDA, 0x5E, 0x15, 0x46, 0x57, 0xA7, 0x8D, 0x9D, 0x84,\n",
    "    0x90, 0xD8, 0xAB, 0x00, 0x8C, 0xBC, 0xD3, 0x0A, 0xF7, 0xE4, 0x58, 0x05, 0xB8, 0xB3, 0x45, 0x06,\n",
    "    0xD0, 0x2C, 0x1E, 0x8F, 0xCA, 0x3F, 0x0F, 0x02, 0xC1, 0xAF, 0xBD, 0x03, 0x01, 0x13, 0x8A, 0x6B,\n",
    "    0x3A, 0x91, 0x11, 0x41, 0x4F, 0x67, 0xDC, 0xEA, 0x97, 0xF2, 0xCF, 0xCE, 0xF0, 0xB4, 0xE6, 0x73,\n",
    "    0x96, 0xAC, 0x74, 0x22, 0xE7, 0xAD, 0x35, 0x85, 0xE2, 0xF9, 0x37, 0xE8, 0x1C, 0x75, 0xDF, 0x6E,\n",
    "    0x47, 0xF1, 0x1A, 0x71, 0x1D, 0x29, 0xC5, 0x89, 0x6F, 0xB7, 0x62, 0x0E, 0xAA, 0x18, 0xBE, 0x1B,\n",
    "    0xFC, 0x56, 0x3E, 0x4B, 0xC6, 0xD2, 0x79, 0x20, 0x9A, 0xDB, 0xC0, 0xFE, 0x78, 0xCD, 0x5A, 0xF4,\n",
    "    0x1F, 0xDD, 0xA8, 0x33, 0x88, 0x07, 0xC7, 0x31, 0xB1, 0x12, 0x10, 0x59, 0x27, 0x80, 0xEC, 0x5F,\n",
    "    0x60, 0x51, 0x7F, 0xA9, 0x19, 0xB5, 0x4A, 0x0D, 0x2D, 0xE5, 0x7A, 0x9F, 0x93, 0xC9, 0x9C, 0xEF,\n",
    "    0xA0, 0xE0, 0x3B, 0x4D, 0xAE, 0x2A, 0xF5, 0xB0, 0xC8, 0xEB, 0xBB, 0x3C, 0x83, 0x53, 0x99, 0x61,\n",
    "    0x17, 0x2B, 0x04, 0x7E, 0xBA, 0x77, 0xD6, 0x26, 0xE1, 0x69, 0x14, 0x63, 0x55, 0x21, 0x0C, 0x7D,\n",
    ")\n",
    "\n",
    "state = [\n",
    "    [251, 64, 182, 81],\n",
    "    [146, 168, 33, 80],\n",
    "    [199, 159, 195, 24],\n",
    "    [64, 80, 182, 255],\n",
    "]\n",
    "\n",
    "\n",
    "def sub_bytes(s, sbox=s_box):\n",
    "    new_matrix = [[], [], [], []]\n",
    "    [new_matrix[i].append(sbox[s[i][j]])\n",
    "     for i in range(len(s)) for j in range(len(s[i]))]\n",
    "    return new_matrix\n",
    "\n",
    "\n",
    "print(matrix2bytes(sub_bytes(state, sbox=inv_s_box)))\n"
   ]
  },
  {
   "cell_type": "code",
   "execution_count": 33,
   "metadata": {},
   "outputs": [
    {
     "name": "stdout",
     "output_type": "stream",
     "text": [
      "crypto{d1ffUs3R}\n"
     ]
    }
   ],
   "source": [
    "def shift_rows(s):\n",
    "    s[0][1], s[1][1], s[2][1], s[3][1] = s[1][1], s[2][1], s[3][1], s[0][1]\n",
    "    s[0][2], s[1][2], s[2][2], s[3][2] = s[2][2], s[3][2], s[0][2], s[1][2]\n",
    "    s[0][3], s[1][3], s[2][3], s[3][3] = s[3][3], s[0][3], s[1][3], s[2][3]\n",
    "\n",
    "\n",
    "def inv_shift_rows(s):\n",
    "    s[1][1], s[2][1], s[3][1], s[0][1] = s[0][1], s[1][1], s[2][1], s[3][1]\n",
    "    s[2][2], s[3][2], s[0][2], s[1][2] = s[0][2], s[1][2], s[2][2], s[3][2]\n",
    "    s[3][3], s[0][3], s[1][3], s[2][3] = s[0][3], s[1][3], s[2][3], s[3][3]\n",
    "\n",
    "\n",
    "# learned from http://cs.ucsb.edu/~koc/cs178/projects/JT/aes.c\n",
    "def xtime(a): return (((a << 1) ^ 0x1B) & 0xFF) if (a & 0x80) else (a << 1)\n",
    "\n",
    "\n",
    "def mix_single_column(a):\n",
    "    # see Sec 4.1.2 in The Design of Rijndael\n",
    "    t = a[0] ^ a[1] ^ a[2] ^ a[3]\n",
    "    u = a[0]\n",
    "    a[0] ^= t ^ xtime(a[0] ^ a[1])\n",
    "    a[1] ^= t ^ xtime(a[1] ^ a[2])\n",
    "    a[2] ^= t ^ xtime(a[2] ^ a[3])\n",
    "    a[3] ^= t ^ xtime(a[3] ^ u)\n",
    "\n",
    "\n",
    "def mix_columns(s):\n",
    "    for i in range(4):\n",
    "        mix_single_column(s[i])\n",
    "\n",
    "\n",
    "def inv_mix_columns(s):\n",
    "    # see Sec 4.1.3 in The Design of Rijndael\n",
    "    for i in range(4):\n",
    "        u = xtime(xtime(s[i][0] ^ s[i][2]))\n",
    "        v = xtime(xtime(s[i][1] ^ s[i][3]))\n",
    "        s[i][0] ^= u\n",
    "        s[i][1] ^= v\n",
    "        s[i][2] ^= u\n",
    "        s[i][3] ^= v\n",
    "\n",
    "    mix_columns(s)\n",
    "\n",
    "\n",
    "state = [\n",
    "    [108, 106, 71, 86],\n",
    "    [96, 62, 38, 72],\n",
    "    [42, 184, 92, 209],\n",
    "    [94, 79, 8, 54],\n",
    "]\n",
    "inv_mix_columns(state)\n",
    "inv_shift_rows(state)\n",
    "\n",
    "print(matrix2bytes(state))\n"
   ]
  },
  {
   "cell_type": "code",
   "execution_count": 47,
   "metadata": {},
   "outputs": [
    {
     "name": "stdout",
     "output_type": "stream",
     "text": [
      "[[[195, 44, 92, 166], [181, 128, 94, 12], [219, 141, 165, 122], [42, 182, 254, 92]], [b'\\x8c\\x97\\x16C', b'9\\x17HO', b'\\xe2\\x9a\\xed5', b'\\xc8,\\x13i'], [b'\\xff\\xea\\xef\\xab', b'\\xc6\\xfd\\xa7\\xe4', b'$gJ\\xd1', b'\\xecKY\\xb8'], [b'H!\\x83e', b'\\x8e\\xdc$\\x81', b'\\xaa\\xbbnP', b'F\\xf07\\xe8'], [b'\\xcc\\xbb\\x18?', b'Bg<\\xbe', b'\\xe8\\xdcR\\xee', b'\\xae,e\\x06'], [b'\\xad\\xf6w\\xdb', b'\\xef\\x91Ke', b'\\x07M\\x19\\x8b', b'\\xa9a|\\x8d'], [b'b\\xe6*\\x08', b'\\x8dwam', b'\\x8a:x\\xe6', b'#[\\x04k'], [b'\\x1b\\x14U.', b'\\x96c4C', b'\\x1cYL\\xa5', b'?\\x02H\\xce'], [b'\\xecF\\xde[', b'z%\\xea\\x18', b'f|\\xa6\\xbd', b'Y~\\xees'], [b'\\x04nQ\\x90', b'~K\\xbb\\x88', b'\\x187\\x1d5', b'AI\\xf3F'], [b'\\tc\\x0b\\x13', b'w(\\xb0\\x9b', b'o\\x1f\\xad\\xae', b'.V^\\xe8']]\n"
     ]
    },
    {
     "ename": "IndexError",
     "evalue": "list index out of range",
     "output_type": "error",
     "traceback": [
      "\u001b[0;31m---------------------------------------------------------------------------\u001b[0m",
      "\u001b[0;31mIndexError\u001b[0m                                Traceback (most recent call last)",
      "Cell \u001b[0;32mIn[47], line 76\u001b[0m\n\u001b[1;32m     71\u001b[0m     \u001b[39m# Convert state matrix to plaintext\u001b[39;00m\n\u001b[1;32m     73\u001b[0m     \u001b[39mreturn\u001b[39;00m matrix2bytes(plaintext)\n\u001b[0;32m---> 76\u001b[0m \u001b[39mprint\u001b[39m(decrypt(key, ciphertext))\n",
      "Cell \u001b[0;32mIn[47], line 69\u001b[0m, in \u001b[0;36mdecrypt\u001b[0;34m(key, ciphertext)\u001b[0m\n\u001b[1;32m     67\u001b[0m \u001b[39m# Run final round (skips the InvMixColumns step)\u001b[39;00m\n\u001b[1;32m     68\u001b[0m inv_shift_rows(plaintext)\n\u001b[0;32m---> 69\u001b[0m plaintext \u001b[39m=\u001b[39m sub_bytes(plaintext, round_key)\n\u001b[1;32m     70\u001b[0m plaintext \u001b[39m=\u001b[39m add_round_key(plaintext, inv_s_box)\n\u001b[1;32m     71\u001b[0m \u001b[39m# Convert state matrix to plaintext\u001b[39;00m\n",
      "Cell \u001b[0;32mIn[44], line 49\u001b[0m, in \u001b[0;36msub_bytes\u001b[0;34m(s, sbox)\u001b[0m\n\u001b[1;32m     47\u001b[0m \u001b[39mdef\u001b[39;00m \u001b[39msub_bytes\u001b[39m(s, sbox\u001b[39m=\u001b[39ms_box):\n\u001b[1;32m     48\u001b[0m     new_matrix \u001b[39m=\u001b[39m [[], [], [], []]\n\u001b[0;32m---> 49\u001b[0m     [new_matrix[i]\u001b[39m.\u001b[39mappend(sbox[s[i][j]])\n\u001b[1;32m     50\u001b[0m      \u001b[39mfor\u001b[39;00m i \u001b[39min\u001b[39;00m \u001b[39mrange\u001b[39m(\u001b[39mlen\u001b[39m(s)) \u001b[39mfor\u001b[39;00m j \u001b[39min\u001b[39;00m \u001b[39mrange\u001b[39m(\u001b[39mlen\u001b[39m(s[i]))]\n\u001b[1;32m     51\u001b[0m     \u001b[39mreturn\u001b[39;00m new_matrix\n",
      "Cell \u001b[0;32mIn[44], line 49\u001b[0m, in \u001b[0;36m<listcomp>\u001b[0;34m(.0)\u001b[0m\n\u001b[1;32m     47\u001b[0m \u001b[39mdef\u001b[39;00m \u001b[39msub_bytes\u001b[39m(s, sbox\u001b[39m=\u001b[39ms_box):\n\u001b[1;32m     48\u001b[0m     new_matrix \u001b[39m=\u001b[39m [[], [], [], []]\n\u001b[0;32m---> 49\u001b[0m     [new_matrix[i]\u001b[39m.\u001b[39mappend(sbox[s[i][j]])\n\u001b[1;32m     50\u001b[0m      \u001b[39mfor\u001b[39;00m i \u001b[39min\u001b[39;00m \u001b[39mrange\u001b[39m(\u001b[39mlen\u001b[39m(s)) \u001b[39mfor\u001b[39;00m j \u001b[39min\u001b[39;00m \u001b[39mrange\u001b[39m(\u001b[39mlen\u001b[39m(s[i]))]\n\u001b[1;32m     51\u001b[0m     \u001b[39mreturn\u001b[39;00m new_matrix\n",
      "\u001b[0;31mIndexError\u001b[0m: list index out of range"
     ]
    }
   ],
   "source": [
    "N_ROUNDS = 10\n",
    "\n",
    "key = b'\\xc3,\\\\\\xa6\\xb5\\x80^\\x0c\\xdb\\x8d\\xa5z*\\xb6\\xfe\\\\'\n",
    "ciphertext = b'\\xd1O\\x14j\\xa4+O\\xb6\\xa1\\xc4\\x08B)\\x8f\\x12\\xdd'\n",
    "\n",
    "\n",
    "def expand_key(master_key):\n",
    "    \"\"\"\n",
    "    Expands and returns a list of key matrices for the given master_key.\n",
    "    \"\"\"\n",
    "\n",
    "    # Round constants https://en.wikipedia.org/wiki/AES_key_schedule#Round_constants\n",
    "    r_con = (\n",
    "        0x00, 0x01, 0x02, 0x04, 0x08, 0x10, 0x20, 0x40,\n",
    "        0x80, 0x1B, 0x36, 0x6C, 0xD8, 0xAB, 0x4D, 0x9A,\n",
    "        0x2F, 0x5E, 0xBC, 0x63, 0xC6, 0x97, 0x35, 0x6A,\n",
    "        0xD4, 0xB3, 0x7D, 0xFA, 0xEF, 0xC5, 0x91, 0x39,\n",
    "    )\n",
    "\n",
    "    # Initialize round keys with raw key material.\n",
    "    key_columns = bytes2matrix(master_key)\n",
    "    iteration_size = len(master_key) // 4\n",
    "\n",
    "    # Each iteration has exactly as many columns as the key material.\n",
    "    i = 1\n",
    "    while len(key_columns) < (N_ROUNDS + 1) * 4:\n",
    "        # Copy previous word.\n",
    "        word = list(key_columns[-1])\n",
    "\n",
    "        # Perform schedule_core once every \"row\".\n",
    "        if len(key_columns) % iteration_size == 0:\n",
    "            # Circular shift.\n",
    "            word.append(word.pop(0))\n",
    "            # Map to S-BOX.\n",
    "            word = [s_box[b] for b in word]\n",
    "            # XOR with first byte of R-CON, since the others bytes of R-CON are 0.\n",
    "            word[0] ^= r_con[i]\n",
    "            i += 1\n",
    "        elif len(master_key) == 32 and len(key_columns) % iteration_size == 4:\n",
    "            # Run word through S-box in the fourth iteration when using a\n",
    "            # 256-bit key.\n",
    "            word = [s_box[b] for b in word]\n",
    "\n",
    "        # XOR with equivalent word from previous iteration.\n",
    "        word = bytes(i ^ j for i, j in zip(word, key_columns[-iteration_size]))\n",
    "        key_columns.append(word)\n",
    "\n",
    "    # Group key words in 4x4 byte matrices.\n",
    "    return [key_columns[4*i: 4*(i+1)] for i in range(len(key_columns) // 4)]\n",
    "\n",
    "\n",
    "def decrypt(key, ciphertext):\n",
    "    # Remember to start from the last round key and work backwards through them when decrypting\n",
    "    round_keys = expand_key(key)\n",
    "    print(round_keys)\n",
    "\n",
    "    # Convert ciphertext to state matrix\n",
    "    plaintext = bytes2matrix(ciphertext)\n",
    "\n",
    "    # Initial add round key step\n",
    "    plaintext = add_round_key(plaintext, round_key)\n",
    "    for i in range(N_ROUNDS - 1, 1, -1):\n",
    "        inv_shift_rows(plaintext)\n",
    "        plaintext = sub_bytes(plaintext, inv_s_box)\n",
    "        plaintext = add_round_key(plaintext, round_key)\n",
    "        inv_mix_columns(plaintext)\n",
    "    # Run final round (skips the InvMixColumns step)\n",
    "    inv_shift_rows(plaintext)\n",
    "    plaintext = sub_bytes(plaintext, round_key)\n",
    "    plaintext = add_round_key(plaintext, inv_s_box)\n",
    "    # Convert state matrix to plaintext\n",
    "    \n",
    "    return matrix2bytes(plaintext)\n",
    "\n",
    "\n",
    "print(decrypt(key, ciphertext))\n"
   ]
  },
  {
   "cell_type": "code",
   "execution_count": null,
   "metadata": {},
   "outputs": [],
   "source": []
  }
 ],
 "metadata": {
  "kernelspec": {
   "display_name": "Python 3",
   "language": "python",
   "name": "python3"
  },
  "language_info": {
   "codemirror_mode": {
    "name": "ipython",
    "version": 3
   },
   "file_extension": ".py",
   "mimetype": "text/x-python",
   "name": "python",
   "nbconvert_exporter": "python",
   "pygments_lexer": "ipython3",
   "version": "3.10.6"
  },
  "orig_nbformat": 4,
  "vscode": {
   "interpreter": {
    "hash": "aee8b7b246df8f9039afb4144a1f6fd8d2ca17a180786b69acc140d282b71a49"
   }
  }
 },
 "nbformat": 4,
 "nbformat_minor": 2
}
